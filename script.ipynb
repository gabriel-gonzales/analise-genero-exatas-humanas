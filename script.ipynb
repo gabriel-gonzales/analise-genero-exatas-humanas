{
 "cells": [
  {
   "cell_type": "markdown",
   "metadata": {},
   "source": [
    "# Análise de Gênero nos Cursos de Exatas e Humanas - Censo de 2022\n",
    "\n",
    "Este projeto realiza uma análise das matrículas e conclusões de cursos de Exatas e Humanas a partir dos microdados do Censo da Educação Superior 2022, com foco em questões de gênero.\n",
    "O objetivo é compreender como homens e mulheres estão distribuídos em diferentes áreas do conhecimento, usando técnicas de visualização e testes estatísticos.\n"
   ]
  },
  {
   "cell_type": "markdown",
   "metadata": {},
   "source": [
    "## 1. Importação de Bibliotecas\n",
    "\n",
    "Aqui, importamos as bibliotecas essenciais para a análise de dados, como Pandas para manipulação de DataFrames, NumPy para operações numéricas, e Matplotlib para visualização.\n"
   ]
  },
  {
   "cell_type": "code",
   "execution_count": null,
   "metadata": {},
   "outputs": [],
   "source": [
    "import pandas as pd\n",
    "import numpy as np \n",
    "import scipy.stats as stats\n",
    "from statsmodels.stats.proportion import proportions_ztest"
   ]
  },
  {
   "cell_type": "markdown",
   "metadata": {},
   "source": [
    "## 2. Carregamento dos Dados\n",
    "\n",
    "Vamos carregar os microdados do Censo da Educação Superior 2022 para iniciar nossa análise. Esses dados incluem informações sobre matrículas e conclusões de cursos em diversas áreas de estudo.\n"
   ]
  },
  {
   "cell_type": "code",
   "execution_count": null,
   "metadata": {},
   "outputs": [],
   "source": [
    "\n",
    "df = pd.read_csv(r'C:\\Users\\Gabriel\\Desktop\\Projeto - Professores\\data\\data_raw\\microdados_censo_da_educacao_superior_2022\\microdados_educação_superior_2022\\dados\\MICRODADOS_CADASTRO_CURSOS_2022.CSV', \n",
    "                 sep=';', encoding='latin1', low_memory=False)"
   ]
  },
  {
   "cell_type": "markdown",
   "metadata": {},
   "source": [
    "## 3. Tratamento dos Dados\n",
    "\n",
    "Aqui, realizamos de acordo com os objetivos do projeto, o tratamento e ordenação dos dados, definindo variaveis e etc.\n"
   ]
  },
  {
   "cell_type": "code",
   "execution_count": null,
   "metadata": {},
   "outputs": [],
   "source": [
    "# Verificando a primeira linha dos dados\n",
    "\n",
    "print(df.head())\n",
    "\n",
    "# Imprimindo todas colunas\n",
    "\n",
    "df.columns.tolist()\n",
    "\n",
    "# Agrupar por curso e gênero\n",
    "\n",
    "cursos_populares = df.groupby('NO_CURSO').agg({\n",
    "    'QT_MAT_FEM': 'sum',  # Total de matrículas femininas\n",
    "    'QT_MAT_MASC': 'sum',  # Total de matrículas masculinas\n",
    "}).reset_index()\n",
    "\n",
    "# Ordenar para ver os cursos mais populares\n",
    "\n",
    "cursos_populares = cursos_populares.sort_values(by='QT_MAT_FEM', ascending=False)\n",
    "\n",
    "# Selecionar os top 10 cursos mais populares\n",
    "\n",
    "top_cursos = cursos_populares.head(10)"
   ]
  },
  {
   "cell_type": "code",
   "execution_count": null,
   "metadata": {},
   "outputs": [],
   "source": [
    "# Verifique os valores únicos na coluna NO_CINE_AREA_GERAL\n",
    "\n",
    "print(df['NO_CINE_AREA_GERAL'].unique())"
   ]
  },
  {
   "cell_type": "code",
   "execution_count": null,
   "metadata": {},
   "outputs": [],
   "source": [
    "# Filtrar por exatas e humanas\n",
    "exatas = ['Ciências naturais, matemática e estatística', 'Engenharia, produção e construção', 'Computação e Tecnologias da Informação e Comunicação (TIC)']\n",
    "humanas = ['Negócios, administração e direito', 'Educação', 'Ciências sociais, comunicação e informação', 'Artes e humanidades']\n",
    "\n",
    "# Filtrar os cursos de exatas e humanas\n",
    "df_exatas = df[df['NO_CINE_AREA_GERAL'].isin(exatas)]\n",
    "df_humanas = df[df['NO_CINE_AREA_GERAL'].isin(humanas)]\n",
    "\n",
    "# Top 10 cursos de exatas com mais matrículas\n",
    "top_exatas = df_exatas.groupby('NO_CURSO').agg({\n",
    "    'QT_MAT_FEM': 'sum',\n",
    "    'QT_MAT_MASC': 'sum'\n",
    "}).reset_index()\n",
    "top_exatas['TOTAL_MATRICULAS'] = top_exatas['QT_MAT_FEM'] + top_exatas['QT_MAT_MASC']\n",
    "top_exatas = top_exatas.sort_values(by='TOTAL_MATRICULAS', ascending=False).head(10)\n",
    "\n",
    "# Top 10 cursos de humanas com mais matrículas\n",
    "top_humanas = (\n",
    "    df_humanas[df_humanas['NO_CURSO'].isin(['Educação Física', 'Matemática']) == False]\n",
    "    .groupby('NO_CURSO')\n",
    "    .agg({\n",
    "        'QT_MAT_FEM': 'sum', \n",
    "        'QT_MAT_MASC': 'sum',\n",
    "    })\n",
    "    .assign(TOTAL_MATRICULAS=lambda x: x['QT_MAT_FEM'] + x['QT_MAT_MASC'])\n",
    "    .sort_values(by='TOTAL_MATRICULAS', ascending=False)\n",
    "    .head(10)\n",
    ")"
   ]
  },
  {
   "cell_type": "markdown",
   "metadata": {},
   "source": [
    "## 4. Algumas Estatísticas\n",
    "\n",
    "Faremos alguns cálculos estatísticos que podem nos fornecer informações interessantes.\n"
   ]
  },
  {
   "cell_type": "code",
   "execution_count": null,
   "metadata": {},
   "outputs": [
    {
     "name": "stdout",
     "output_type": "stream",
     "text": [
      "Proporção de Mulheres em Exatas: 0.27\n",
      "Proporção de Homens em Exatas: 0.73\n",
      "Proporção de Mulheres em Humanas: 0.60\n",
      "Proporção de Homens em Humanas: 0.40\n",
      "Número total de Exatas: 520598\n",
      "Número total de Humanas: 1307685\n"
     ]
    }
   ],
   "source": [
    "# Exatas\n",
    "total_exatas = df_exatas['QT_MAT_FEM'].sum() + df_exatas['QT_MAT_MASC'].sum() \n",
    "\n",
    "proporcao_fem_exatas = df_exatas['QT_MAT_FEM'].sum() / total_exatas\n",
    "\n",
    "proporcao_masc_exatas = df_exatas['QT_MAT_MASC'].sum() / total_exatas\n",
    "\n",
    "# Humanas\n",
    "total_humanas = df_humanas['QT_MAT_FEM'].sum() + df_humanas['QT_MAT_MASC'].sum()\n",
    "proporcao_fem_humanas = df_humanas['QT_MAT_FEM'].sum() / total_humanas\n",
    "proporcao_masc_humanas = df_humanas['QT_MAT_MASC'].sum() / total_humanas\n",
    "\n",
    "print(f\"Proporção de Mulheres em Exatas: {proporcao_fem_exatas:.2f}\")\n",
    "print(f\"Proporção de Homens em Exatas: {proporcao_masc_exatas:.2f}\")\n",
    "print(f\"Proporção de Mulheres em Humanas: {proporcao_fem_humanas:.2f}\")\n",
    "print(f\"Proporção de Homens em Humanas: {proporcao_masc_humanas:.2f}\")\n",
    "\n",
    "print(f\"Número total de Exatas: {total_exatas}\")\n",
    "print(f\"Número total de Humanas: {total_humanas}\")\n"
   ]
  },
  {
   "cell_type": "code",
   "execution_count": null,
   "metadata": {},
   "outputs": [
    {
     "name": "stdout",
     "output_type": "stream",
     "text": [
      "Intervalo de Confiança para Mulheres em Exatas: (0.2662, 0.2686)\n",
      "Intervalo de Confiança para Homens em Exatas: (0.7314, 0.7338)\n",
      "Intervalo de Confiança para Mulheres em Humanas: (0.5980, 0.5996)\n",
      "Intervalo de Confiança para Homens em Humanas: (0.4004, 0.4020)\n"
     ]
    }
   ],
   "source": [
    "# Função para calcular intervalo de confiança de uma proporção\n",
    "def intervalo_confianca_proporcao(p, n, z=1.96):\n",
    "    erro_padrao = np.sqrt((p * (1 - p)) / n)\n",
    "    intervalo_inferior = p - z * erro_padrao\n",
    "    intervalo_superior = p + z * erro_padrao\n",
    "    return intervalo_inferior, intervalo_superior\n",
    "\n",
    "def formatar_intervalo(intervalo):\n",
    "    return f'({intervalo[0]:.4f}, {intervalo[1]:.4f})'\n",
    "\n",
    "# Intervalos de confiança\n",
    "ic_mulheres_exatas = intervalo_confianca_proporcao(proporcao_fem_exatas, total_exatas)\n",
    "ic_homens_exatas = intervalo_confianca_proporcao(proporcao_masc_exatas, total_exatas)\n",
    "ic_mulheres_humanas = intervalo_confianca_proporcao(proporcao_fem_humanas, total_humanas)\n",
    "ic_homens_humanas = intervalo_confianca_proporcao(proporcao_masc_humanas, total_humanas)\n",
    "\n",
    "# Exibir os resultados\n",
    "print(\"Intervalo de Confiança para Mulheres em Exatas:\", formatar_intervalo(ic_mulheres_exatas))\n",
    "print(\"Intervalo de Confiança para Homens em Exatas:\", formatar_intervalo(ic_homens_exatas))\n",
    "print(\"Intervalo de Confiança para Mulheres em Humanas:\", formatar_intervalo(ic_mulheres_humanas))\n",
    "print(\"Intervalo de Confiança para Homens em Humanas:\", formatar_intervalo(ic_homens_humanas))\n"
   ]
  },
  {
   "cell_type": "code",
   "execution_count": null,
   "metadata": {},
   "outputs": [
    {
     "name": "stdout",
     "output_type": "stream",
     "text": [
      "Estatística do teste: 404.46\n",
      "Valor-p: 0.00000\n",
      "As proporções de homens em Exatas e Humanas são significativamente diferentes.\n"
     ]
    }
   ],
   "source": [
    "\n",
    "homens_exatas = total_exatas * proporcao_masc_exatas  # Número de homens em Exatas\n",
    "homens_humanas = total_humanas * proporcao_masc_humanas  # Número de homens em Humanas\n",
    "\n",
    "\n",
    "# Contadores e observações\n",
    "count = np.array([homens_exatas, homens_humanas])\n",
    "nobs = np.array([total_exatas, total_humanas])\n",
    "\n",
    "# Teste de hipóteses\n",
    "stat, p_value = proportions_ztest(count, nobs)\n",
    "\n",
    "print(f\"Estatística do teste: {stat:.2f}\")\n",
    "print(f\"Valor-p: {p_value:.5f}\")\n",
    "\n",
    "if p_value < 0.05:\n",
    "    print(\"As proporções de homens em Exatas e Humanas são significativamente diferentes.\")\n",
    "else:\n",
    "    print(\"Não há diferença significativa nas proporções de homens entre Exatas e Humanas.\")\n"
   ]
  },
  {
   "cell_type": "code",
   "execution_count": null,
   "metadata": {},
   "outputs": [
    {
     "name": "stdout",
     "output_type": "stream",
     "text": [
      "Estatística do teste: -404.46\n",
      "Valor-p: 0.00000\n",
      "As proporções de mulheres em Exatas e Humanas são significativamente diferentes.\n"
     ]
    }
   ],
   "source": [
    "# Número de mulheres em Exatas e Humanas\n",
    "mulheres_exatas = total_exatas * proporcao_fem_exatas\n",
    "mulheres_humanas = total_humanas * proporcao_fem_humanas\n",
    "\n",
    "# Contadores e observações\n",
    "count = np.array([mulheres_exatas, mulheres_humanas])\n",
    "nobs = np.array([total_exatas, total_humanas])\n",
    "\n",
    "# Teste de hipóteses\n",
    "stat, p_value = proportions_ztest(count, nobs)\n",
    "\n",
    "print(f\"Estatística do teste: {stat:.2f}\")\n",
    "print(f\"Valor-p: {p_value:.5f}\")\n",
    "\n",
    "if p_value < 0.05:\n",
    "    print(\"As proporções de mulheres em Exatas e Humanas são significativamente diferentes.\")\n",
    "else:\n",
    "    print(\"Não há diferença significativa nas proporções de mulheres entre Exatas e Humanas.\")"
   ]
  },
  {
   "cell_type": "markdown",
   "metadata": {},
   "source": [
    "## 5. Análise Exploratória e Visualizações\n",
    "\n",
    "Aqui, realizamos a análise exploratória e visualizações dos dados, observando as matrículas e conclusões em cursos, com uma ênfase especial na divisão por gênero.\n"
   ]
  },
  {
   "cell_type": "code",
   "execution_count": null,
   "metadata": {},
   "outputs": [],
   "source": [
    "# Top 10 Cursos por Número de Matrículas e Gênero\n",
    "\n",
    "plt.figure(figsize=(14, 8))\n",
    "plt.barh(top_cursos['NO_CURSO'], top_cursos['QT_MAT_FEM'], color='lightcoral', label='Matrículas Femininas')\n",
    "plt.barh(top_cursos['NO_CURSO'], top_cursos['QT_MAT_MASC'], color='lightblue', left=top_cursos['QT_MAT_FEM'], label='Matrículas Masculinas')\n",
    "\n",
    "plt.xlabel('Número de Matrículas')\n",
    "plt.ylabel('Curso')\n",
    "plt.title('Top 10 Cursos por Número de Matrículas e Gênero')\n",
    "plt.legend()\n",
    "plt.grid(axis='x', linestyle='--', alpha=0.7)\n",
    "plt.show()\n"
   ]
  },
  {
   "cell_type": "code",
   "execution_count": null,
   "metadata": {},
   "outputs": [],
   "source": [
    "# Top 10 Cursos de Humanas com Mais Matrículas por Gênero \n",
    "\n",
    "plt.figure(figsize=(14, 8))\n",
    "plt.barh(top_humanas.index, top_humanas['QT_MAT_FEM'], color='lightcoral', label='Matrículas Femininas')\n",
    "plt.barh(top_humanas.index, top_humanas['QT_MAT_MASC'], color='lightblue', left=top_humanas['QT_MAT_FEM'], label='Matrículas Masculinas')\n",
    "\n",
    "# Títulos e rótulos\n",
    "plt.xlabel('Número de Matrículas')\n",
    "plt.ylabel('Curso')\n",
    "plt.title('Top 10 Cursos de Humanas com Mais Matrículas por Gênero')\n",
    "plt.legend()\n",
    "\n",
    "# Grid e visualização\n",
    "plt.grid(axis='x', linestyle='--', alpha=0.7)\n",
    "plt.tight_layout()\n",
    "plt.show()"
   ]
  },
  {
   "cell_type": "code",
   "execution_count": null,
   "metadata": {},
   "outputs": [],
   "source": [
    "# Top 10 Cursos de Exatas com Mais Matrículas por Gênero\n",
    "\n",
    "plt.figure(figsize=(14, 8))\n",
    "plt.barh(top_exatas['NO_CURSO'], top_exatas['QT_MAT_FEM'], color='lightcoral', label='Matrículas Femininas')\n",
    "plt.barh(top_exatas['NO_CURSO'], top_exatas['QT_MAT_MASC'], color='lightblue', left=top_exatas['QT_MAT_FEM'], label='Matrículas Masculinas')\n",
    "\n",
    "# Títulos e rótulos\n",
    "plt.xlabel('Número de Matrículas')\n",
    "plt.ylabel('Curso')\n",
    "plt.title('Top 10 Cursos de Exatas com Mais Matrículas por Gênero')\n",
    "plt.legend()\n",
    "\n",
    "# Grid e visualização\n",
    "plt.grid(axis='x', linestyle='--', alpha=0.7)\n",
    "plt.tight_layout()\n",
    "plt.show()"
   ]
  },
  {
   "cell_type": "markdown",
   "metadata": {},
   "source": [
    "## 6. Conclusão\n",
    "\n",
    "Após a análise dos dados de matrículas e conclusões nos cursos de Exatas e Humanas, observamos algumas tendências importantes em relação à distribuição de gênero. Este estudo fornece uma base para entender as dinâmicas de gênero nas escolhas educacionais no Brasil.\n"
   ]
  }
 ],
 "metadata": {
  "kernelspec": {
   "display_name": "Python 3",
   "language": "python",
   "name": "python3"
  },
  "language_info": {
   "name": "python",
   "version": "3.12.5"
  }
 },
 "nbformat": 4,
 "nbformat_minor": 2
}
